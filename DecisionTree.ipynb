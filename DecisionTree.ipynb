{
 "cells": [
  {
   "cell_type": "markdown",
   "id": "a7d89d7f",
   "metadata": {},
   "source": [
    "#### 处理连续值"
   ]
  },
  {
   "cell_type": "code",
   "execution_count": 1,
   "id": "345f02c0",
   "metadata": {},
   "outputs": [],
   "source": [
    "density = [[0.697, True],[0.774, True],[0.634, True],[0.608, True],\n",
    "           [0.556, True],[0.403, True],[0.481, True],[0.437, True],\n",
    "          [0.666, False],[0.243, False],[0.245, False],[0.343, False],\n",
    "          [0.639, False],[0.657, False],[0.360, False],[0.593, False],[0.719, False]]"
   ]
  },
  {
   "cell_type": "code",
   "execution_count": 2,
   "id": "e54e68dd",
   "metadata": {},
   "outputs": [],
   "source": [
    "from functools import cmp_to_key\n",
    "# 根据密度排序\n",
    "def sortByDensity(L) -> list:\n",
    "    L.sort(key=lambda x:x[0])\n",
    "    return L\n",
    "# 计算每一个中间值 L已排序\n",
    "def calcMidDensity(L) -> list:\n",
    "    midDensity = []\n",
    "    for i in range(len(density)-1):\n",
    "        midDensity.append(float(format((density[i][0]+density[i+1][0])/2, '.3f')))\n",
    "    return midDensity      "
   ]
  },
  {
   "cell_type": "code",
   "execution_count": 4,
   "id": "b2f74fa6",
   "metadata": {},
   "outputs": [
    {
     "name": "stdout",
     "output_type": "stream",
     "text": [
      "[0.244, 0.294, 0.352, 0.382, 0.42, 0.459, 0.518, 0.575, 0.601, 0.621, 0.637, 0.648, 0.661, 0.681, 0.708, 0.746]\n",
      "[[0.243, False], [0.245, False], [0.343, False], [0.36, False], [0.403, True], [0.437, True], [0.481, True], [0.556, True], [0.593, False], [0.608, True], [0.634, True], [0.639, False], [0.657, False], [0.666, False], [0.697, True], [0.719, False], [0.774, True]]\n"
     ]
    }
   ],
   "source": [
    "ListSorted = sortByDensity(density)\n",
    "midDensity = calcMidDensity(ListSorted)\n",
    "print(midDensity)\n",
    "print(ListSorted)"
   ]
  },
  {
   "cell_type": "code",
   "execution_count": 26,
   "id": "71705104",
   "metadata": {},
   "outputs": [
    {
     "name": "stdout",
     "output_type": "stream",
     "text": [
      "排序后的训练集\n",
      "[0.243, False][0.245, False][0.343, False][0.36, False][0.403, True][0.437, True]\n",
      "[0.437, True][0.481, True][0.556, True][0.593, False][0.608, True][0.634, True]\n",
      "[0.634, True][0.639, False][0.657, False][0.666, False][0.697, True][0.719, False]\n",
      "[0.719, False][0.774, True]\n",
      "--------------------------------------------------\n",
      "所有的中位值：\n",
      "0.244  0.294  0.352  0.382  0.420  0.459  0.518\n",
      "0.518  0.575  0.601  0.621  0.637  0.648  0.661\n",
      "0.661  0.681  0.708  0.746  "
     ]
    }
   ],
   "source": [
    "print('排序后的训练集')\n",
    "for i in range(len(ListSorted)):\n",
    "    if i%5 == 0 and i != 0:\n",
    "        print(ListSorted[i])\n",
    "    print(ListSorted[i], end='')\n",
    "print('\\n'+'-'*50)\n",
    "\n",
    "print('所有的中位值：')\n",
    "for i in range(len(midDensity)):\n",
    "    if i%6 == 0 and i != 0:\n",
    "        print(format(midDensity[i], '.3f'))\n",
    "    print(str(format(midDensity[i], '.3f'))+'  ', end=\"\")"
   ]
  },
  {
   "cell_type": "code",
   "execution_count": 17,
   "id": "6b08d20b",
   "metadata": {},
   "outputs": [],
   "source": [
    "import math\n",
    "#求总样本的信息增益\n",
    "def calcEnt(List) -> float:\n",
    "    positive = 0\n",
    "    negative = 0\n",
    "    number = len(List)\n",
    "    for item in List:\n",
    "        if item[1] == True:\n",
    "            positive += 1\n",
    "        else:\n",
    "            negative += 1\n",
    "    pp = positive / number\n",
    "    pn = negative / number\n",
    "    if pp == 0:\n",
    "        pp = 1\n",
    "    if pn == 0:\n",
    "        pn = 1\n",
    "    ent = pp * math.log(pp, 2) + pn * math.log(pn, 2)\n",
    "    return format(-ent, '.3f')"
   ]
  },
  {
   "cell_type": "code",
   "execution_count": 18,
   "id": "627d86a2",
   "metadata": {},
   "outputs": [
    {
     "name": "stdout",
     "output_type": "stream",
     "text": [
      "0.998\n",
      "<class 'float'>\n"
     ]
    }
   ],
   "source": [
    "print(calcEnt(density))\n",
    "print(type(midDensity[-0]))"
   ]
  },
  {
   "cell_type": "code",
   "execution_count": 19,
   "id": "898d9a3c",
   "metadata": {},
   "outputs": [],
   "source": [
    "# 计算条件熵\n",
    "def calcDt(List, number, flag) -> float:\n",
    "    positive = 0\n",
    "    negative = 0\n",
    "    if flag == 0:\n",
    "        #计算小于划分值部分\n",
    "        for i in range(number):\n",
    "            if List[i][1] == True:\n",
    "                positive += 1\n",
    "            else:\n",
    "                negative += 1\n",
    "        pp = positive / number\n",
    "        pn = negative / number\n",
    "        if pp == 0:\n",
    "            pp = 1\n",
    "        if pn == 0:\n",
    "            pn = 1\n",
    "        dt0 = pp * math.log(pp, 2) + pn * math.log(pn, 2)\n",
    "        return format(-dt0, '.3f')\n",
    "    #计算大于划分值部分\n",
    "    for i in range(len(List)-number, len(List)):\n",
    "            if List[i][1] == True:\n",
    "                positive += 1\n",
    "            else:\n",
    "                negative += 1\n",
    "    pp = positive / number\n",
    "    pn = negative / number\n",
    "    if pp == 0:\n",
    "        pp = 1\n",
    "    if pn == 0:\n",
    "        pn = 1\n",
    "    dt1 = pp * math.log(pp, 2) + pn * math.log(pn, 2)\n",
    "    return format(-dt1, '.3f')\n",
    "            \n",
    "            \n",
    "# 计算不同划分下信息增益 List 已排序\n",
    "def calcGain(List, midDensity):\n",
    "    \n",
    "    ent = calcEnt(List)\n",
    "    number = len(List)\n",
    "    gainList = [] #保存每一种划分情况下的信息增益\n",
    "    maxGain = -1  #标记最大的信息增益\n",
    "    maxMidData = 0 #标记使信息增益最大的划分值\n",
    "    for midData in midDensity:\n",
    "        number0 = 0\n",
    "        number1 = 0\n",
    "        for j in range(len(List)):\n",
    "            if List[j][0] < midData:\n",
    "                number0 += 1\n",
    "            else:\n",
    "                number1 += 1\n",
    "        # 计算每一种划分值下的条件熵以及信息增益\n",
    "        dt0 = calcDt(List, number0, 0)\n",
    "        dt1 = calcDt(List, number1, 1)\n",
    "        dt = float(number0 / number) * float(dt0) + float(number1 / number) * float(dt1)\n",
    "        gain = float(ent) - float(dt)\n",
    "        gainList.append(float(format(gain, '.4f')))\n",
    "        if gain > maxGain:\n",
    "            maxGain = gain\n",
    "            maxMidData = midData\n",
    "    return gainList, maxMidData"
   ]
  },
  {
   "cell_type": "code",
   "execution_count": 25,
   "id": "92c53782",
   "metadata": {},
   "outputs": [
    {
     "name": "stdout",
     "output_type": "stream",
     "text": [
      "每个划分值对应的信息增益为：\n",
      "0.057  0.118  0.187  0.263  0.094  0.031  0.004\n",
      "0.004  0.003  0.003  0.004  0.031  0.006  0.001\n",
      "0.001  0.025  0.001  0.067  \n",
      "信息增益最大的划分值为:0.382\n"
     ]
    }
   ],
   "source": [
    "gainList, maxMidData = calcGain(ListSorted, midDensity)\n",
    "print('每个划分值对应的信息增益为：')\n",
    "for i in range(len(gainList)):\n",
    "    if i%6 == 0 and i != 0:\n",
    "        print(format(gainList[i], '.3f'))\n",
    "    print(str(format(gainList[i], '.3f'))+'  ', end=\"\")\n",
    "\n",
    "print('\\n信息增益最大的划分值为:'+str(maxMidData))"
   ]
  },
  {
   "cell_type": "code",
   "execution_count": null,
   "id": "5d06f9d7",
   "metadata": {},
   "outputs": [],
   "source": []
  }
 ],
 "metadata": {
  "kernelspec": {
   "display_name": "Python 3",
   "language": "python",
   "name": "python3"
  },
  "language_info": {
   "codemirror_mode": {
    "name": "ipython",
    "version": 3
   },
   "file_extension": ".py",
   "mimetype": "text/x-python",
   "name": "python",
   "nbconvert_exporter": "python",
   "pygments_lexer": "ipython3",
   "version": "3.9.5"
  }
 },
 "nbformat": 4,
 "nbformat_minor": 5
}
